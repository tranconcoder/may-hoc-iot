{
 "cells": [
  {
   "cell_type": "markdown",
   "metadata": {
    "id": "AxtE_wgZ2SoT"
   },
   "source": [
    "# TÌM KIẾM THEO CHIỀU RỘNG:"
   ]
  },
  {
   "cell_type": "code",
   "execution_count": null,
   "metadata": {
    "colab": {
     "base_uri": "https://localhost:8080/"
    },
    "id": "hJrxUZ-G2ZWK",
    "outputId": "9de74d70-629d-49e9-f9ad-b2de89f53400"
   },
   "outputs": [],
   "source": [
    "!pip install networkx\n",
    "!apt install libgraphviz-dev\n",
    "!pip install pygraphviz\n",
    "\n",
    "from collections import deque\n",
    "import networkx as nx\n",
    "import matplotlib.pyplot as plt\n",
    "\n",
    "# Hằng số để tùy chỉnh hình dạng node\n",
    "NODE_SHAPE_BFS = 'o'  # 'o' cho hình tròn, 's' cho hình vuông, '^' cho tam giác, v.v.\n",
    "# Hằng số để bật/tắt viền node\n",
    "NODE_EDGE_BFS = True  # True để bật viền, False để tắt viền\n",
    "NODE_EDGE_COLOR_BFS = 'black'  # Màu viền node\n",
    "NODE_EDGE_WIDTH_BFS = 2        # Độ dày viền node"
   ]
  },
  {
   "cell_type": "code",
   "execution_count": null,
   "metadata": {
    "id": "jyx1hq-42qTY"
   },
   "outputs": [],
   "source": [
    "MAU_DA_DUYET = 'purple'\n",
    "MAU_CHUA_DUYET = 'green'\n",
    "\n",
    "def draw_tree(graph,start,color_map):\n",
    "  bfs_tree = nx.bfs_tree(graph, start)\n",
    "\n",
    "  # Get the layout for the BFS tree\n",
    "  pos = nx.nx_agraph.graphviz_layout(bfs_tree, prog='dot')\n",
    "  # Draw the BFS tree\n",
    "  nx.draw(\n",
    "      graph,\n",
    "      pos=pos,\n",
    "      node_color=color_map,\n",
    "      with_labels=True,\n",
    "      font_weight='bold',\n",
    "      font_color='white',\n",
    "      font_size=20,\n",
    "      arrows=True,\n",
    "      arrowstyle='->',\n",
    "      node_size=3000,\n",
    "      node_shape=NODE_SHAPE_BFS\n",
    "  )\n",
    "  # Vẽ viền node nếu bật tùy chọn\n",
    "  if NODE_EDGE_BFS:\n",
    "      nx.draw_networkx_nodes(\n",
    "          graph,\n",
    "          pos,\n",
    "          node_color='none',\n",
    "          node_size=3000,\n",
    "          node_shape=NODE_SHAPE_BFS,\n",
    "          edgecolors=NODE_EDGE_COLOR_BFS,\n",
    "          linewidths=NODE_EDGE_WIDTH_BFS\n",
    "      )\n",
    "\n",
    "  # Show the plot\n",
    "  plt.show()"
   ]
  },
  {
   "cell_type": "markdown",
   "metadata": {
    "id": "HgjTM5-4251q"
   },
   "source": [
    "## **HÀM DUYỆT VÀ TÌM KIẾM 1 NODE TRONG CÂY**"
   ]
  },
  {
   "cell_type": "code",
   "execution_count": null,
   "metadata": {
    "id": "Ezim_CIG3HS0"
   },
   "outputs": [],
   "source": [
    "graph = {\n",
    "  '5' : ['3','7'],\n",
    "  '3' : ['2', '4'],\n",
    "  '7' : ['8'],\n",
    "  '2' : [],\n",
    "  '4' : ['8'],\n",
    "  '8' : []\n",
    "}\n",
    "visited = []\n",
    "queue = []\n",
    "color_map = []\n",
    "G = nx.Graph(graph)\n",
    "\n",
    "# Hàm dùng để duyệt toàn bộ cây\n",
    "def bfs_travel(visited, graph, node):\n",
    "  visited = [node]\n",
    "  queue = [node]\n",
    "  color_map = []\n",
    "\n",
    "  while queue:\n",
    "    # Creating loop to visit each node\n",
    "    m = queue.pop(0)\n",
    "    print (m, end = \" \")\n",
    "    color_map.append(MAU_DA_DUYET)\n",
    "    for neighbour in graph[m]:\n",
    "      if neighbour not in visited:\n",
    "          visited.append(neighbour)\n",
    "          queue.append(neighbour)\n",
    "  for i in queue:\n",
    "    color_map.append(MAU_CHUA_DUYET)\n",
    "  draw_tree(G,node,color_map)\n"
   ]
  },
  {
   "cell_type": "code",
   "execution_count": null,
   "metadata": {
    "id": "1u3Um17m3Nv7"
   },
   "outputs": [],
   "source": [
    "graph = {\n",
    "  'A' : ['B','C', 'D'],\n",
    "  'B' : ['E', 'F'],\n",
    "  'C' : [],\n",
    "  'D' : ['G', 'H', 'I'],\n",
    "  'E' : ['J'],\n",
    "  'F' : ['K'],\n",
    "  'G' : ['L'],\n",
    "  'H' : [],\n",
    "  'I' : [],\n",
    "  'J' : [],\n",
    "  'K' : [],\n",
    "  'L' : []\n",
    "}\n",
    "visited = []\n",
    "queue = []\n",
    "color_map = []\n",
    "G = nx.Graph(graph)\n",
    "\n",
    "# Hàm dùng tìm một nút trong cây\n",
    "def bfs(visited, graph, node, target):\n",
    "  visited = [node]\n",
    "  queue = [node]\n",
    "  color_map = []\n",
    "  resultStr = \"\"\n",
    "\n",
    "  while queue:\n",
    "    # Creating loop to visit each node\n",
    "    m = queue.pop(0)\n",
    "    resultStr += m + \" \"\n",
    "    color_map.append(MAU_DA_DUYET)\n",
    "\n",
    "    for neighbour in graph[m]:\n",
    "      if neighbour not in visited:\n",
    "          visited.append(neighbour)\n",
    "          queue.append(neighbour)\n",
    "\n",
    "    if m == target:\n",
    "      break\n",
    "  else:\n",
    "    resultStr = f\"Không tìm thấy node {target}!\"\n",
    "  print (resultStr, end = \" \")\n",
    "\n",
    "  while len(color_map) < len(graph):\n",
    "    color_map.append(MAU_CHUA_DUYET)\n",
    "\n",
    "  draw_tree(G,node,color_map)\n"
   ]
  },
  {
   "cell_type": "code",
   "execution_count": null,
   "metadata": {
    "colab": {
     "base_uri": "https://localhost:8080/",
     "height": 551
    },
    "id": "NrZ1uv-p3Xg6",
    "outputId": "3ed67866-586a-41d6-b6f0-68ad1d29240a"
   },
   "outputs": [],
   "source": [
    "print(\"Following is the Breadth-First Search\")\n",
    "bfs(visited, graph, 'A', 'G')\n"
   ]
  },
  {
   "cell_type": "markdown",
   "metadata": {
    "id": "m5UoCpoP3fli"
   },
   "source": [
    "# TÌM KIẾM THEO CHIỀU SÂU"
   ]
  },
  {
   "cell_type": "markdown",
   "metadata": {
    "id": "muclpntB_CKB"
   },
   "source": [
    "+cài thư viện"
   ]
  },
  {
   "cell_type": "code",
   "execution_count": null,
   "metadata": {
    "colab": {
     "base_uri": "https://localhost:8080/"
    },
    "id": "fW9xuCJP3-7a",
    "outputId": "03ca23b5-3daa-4ecf-bc7a-0b7613ab28e8"
   },
   "outputs": [],
   "source": [
    "!pip install networkx\n",
    "!apt install libgraphviz-dev\n",
    "!pip install pygraphviz"
   ]
  },
  {
   "cell_type": "code",
   "execution_count": null,
   "metadata": {
    "id": "c7f07Wwf-zHh"
   },
   "outputs": [],
   "source": [
    "from collections import deque\n",
    "import networkx as nx\n",
    "import matplotlib.pyplot as plt\n"
   ]
  },
  {
   "cell_type": "markdown",
   "metadata": {
    "id": "ZER-cfP74FRM"
   },
   "source": [
    "**HIỂN THỊ TOÀN BỘ CÂY DFS**"
   ]
  },
  {
   "cell_type": "code",
   "execution_count": null,
   "metadata": {
    "id": "-aE7NOqc4KCz"
   },
   "outputs": [],
   "source": [
    "def draw_tree_bfs(graph, start, color_map):\n",
    "  bfs_tree = nx.bfs_tree(graph, start) # Nếu in theo kiểu dfs thì dùng hàm dfs_tree\n",
    "\n",
    "  # Get the layout for the DFS tree\n",
    "  pos = nx.nx_agraph.graphviz_layout(bfs_tree, prog='dot')\n",
    "  #pos = nx.spring_layout(dfs_tree)\n",
    "\n",
    "  # Draw the DFS tree\n",
    "  nx.draw(graph,\n",
    "      pos=pos,\n",
    "      node_color=color_map,\n",
    "      with_labels=True,\n",
    "      font_size = 20,\n",
    "      font_weight='bold',\n",
    "      font_color='white',\n",
    "      arrows=True,arrowstyle='->',\n",
    "      node_size = 3000\n",
    "  )\n",
    "\n",
    "  # Show the plot\n",
    "  plt.show()"
   ]
  },
  {
   "cell_type": "code",
   "execution_count": null,
   "metadata": {
    "id": "s-kcudkA40gg"
   },
   "outputs": [],
   "source": [
    "graph = {\n",
    "  '5' : ['3','7'],\n",
    "  '3' : ['2', '4'],\n",
    "  '7' : ['8'],\n",
    "  '2' : [],\n",
    "  '4' : ['8'],\n",
    "  '8' : []\n",
    "}\n",
    "G = nx.Graph(graph)\n",
    "visited = set()\n",
    "color_map = []\n",
    "\n",
    "def dfs_travel_tree(visited, graph, node):\n",
    "  if node not in visited:\n",
    "    color_map.append('green')\n",
    "    print(node)\n",
    "    visited.add(node)\n",
    "\n",
    "    for neighbour in graph[node]:\n",
    "      dfs_travel_tree(visited, graph, neighbour)\n",
    "\n",
    "def init_dfs(visited, graph, node):\n",
    "  global color_map\n",
    "  color_map = []\n",
    "  visited = set()\n",
    "  dfs_travel_tree(visited, graph, node)\n",
    "  draw_tree_bfs(graph, node, color_map)"
   ]
  },
  {
   "cell_type": "code",
   "execution_count": null,
   "metadata": {
    "colab": {
     "base_uri": "https://localhost:8080/",
     "height": 638
    },
    "id": "WNeID3YX45fC",
    "outputId": "d8dccddb-bb0b-459e-8cab-767c6d403f0b"
   },
   "outputs": [],
   "source": [
    "print(\"Following is the Depth-First Search\")\n",
    "init_dfs(visited, G, '5')"
   ]
  },
  {
   "cell_type": "markdown",
   "metadata": {
    "id": "N1fTbsiV5EIS"
   },
   "source": [
    "**TÌM KIẾM VÀ ĐÁNH DẤU CÁC NÚT ĐÃ ĐI QUA (IN THEO CÁCH BFS)**"
   ]
  },
  {
   "cell_type": "code",
   "execution_count": null,
   "metadata": {
    "id": "74Q-4gaj5Rwz"
   },
   "outputs": [],
   "source": [
    "color_map_dfs = dict()\n",
    "visited = set()\n",
    "found = False\n",
    "dfs_path_result = \"\"\n",
    "\n",
    "def dfs_search_tree(visited, graph, node, target):\n",
    "  global found\n",
    "  global dfs_path_result\n",
    "\n",
    "  if node not in visited:\n",
    "    visited.add(node)\n",
    "    dfs_path_result += node + \"\\t\"\n",
    "    color_map_dfs[node] = 'green' if not found else 'red'\n",
    "\n",
    "    if node == target:\n",
    "      found = True\n",
    "\n",
    "    for neighbour in graph[node]:\n",
    "      dfs_search_tree(visited, graph, neighbour, target)\n",
    "\n",
    "def convert_color_map_dfs_to_bfs(visited, graph, node, color_map_dfs):\n",
    "  visited = [node]\n",
    "  queue = [node]\n",
    "  color_map = []\n",
    "\n",
    "  while queue:\n",
    "    m = queue.pop(0)\n",
    "    color_map.append(color_map_dfs[m])\n",
    "\n",
    "    for neighbour in graph[m]:\n",
    "      if neighbour not in visited:\n",
    "        visited.append(neighbour)\n",
    "        queue.append(neighbour)\n",
    "\n",
    "  return color_map\n",
    "\n",
    "def init_dfs_search_tree(visited, graph, node, target):\n",
    "  global color_map_dfs\n",
    "  global found\n",
    "  global dfs_path_result\n",
    "  found = False\n",
    "  dfs_path_result = \"\"\n",
    "  color_map_dfs = dict()\n",
    "  visited = set()\n",
    "  dfs_search_tree(visited, graph, node, target)\n",
    "\n",
    "  if not found:\n",
    "    dfs_path_result = f\"Không tìm thấy node {target}!\"\n",
    "  print(dfs_path_result)\n",
    "\n",
    "  color_map_bfs = convert_color_map_dfs_to_bfs(visited, graph, node, color_map_dfs)\n",
    "\n",
    "  draw_tree_bfs(graph, node, color_map_bfs)\n"
   ]
  },
  {
   "cell_type": "code",
   "execution_count": null,
   "metadata": {
    "colab": {
     "base_uri": "https://localhost:8080/",
     "height": 551
    },
    "id": "wVeCsAuX5dcK",
    "outputId": "5ae0f33a-4c77-4aef-bbe4-ffebdc3b40bd"
   },
   "outputs": [],
   "source": [
    "print(\"Following is the Depth-First Search\")\n",
    "init_dfs_search_tree(visited, G, '5', '2')"
   ]
  },
  {
   "cell_type": "markdown",
   "metadata": {
    "id": "n-DjxOJD5joi"
   },
   "source": [
    "**HIỂN THỊ TOÀN BỘ CÂY THEO KIỂU MA TRẬN**"
   ]
  },
  {
   "cell_type": "code",
   "execution_count": null,
   "metadata": {
    "id": "8j2J7UWB_owq"
   },
   "outputs": [],
   "source": [
    "def draw_tree_dfs(graph, start, color_map):\n",
    "  dfs_tree = nx.dfs_tree(graph, start)\n",
    "\n",
    "  # Get the layout for the DFS tree\n",
    "  pos = nx.nx_agraph.graphviz_layout(dfs_tree, prog='dot')\n",
    "  #pos = nx.spring_layout(dfs_tree)\n",
    "\n",
    "  # Draw the DFS tree\n",
    "  nx.draw(graph,\n",
    "      pos=pos,\n",
    "      node_color=color_map,\n",
    "      with_labels=True,\n",
    "      font_size = 20,\n",
    "      font_weight='bold',\n",
    "      font_color='white',\n",
    "      arrows=True,arrowstyle='->',\n",
    "      node_size = 3000\n",
    "  )\n",
    "\n",
    "  # Show the plot\n",
    "  plt.show()"
   ]
  },
  {
   "cell_type": "code",
   "execution_count": null,
   "metadata": {
    "id": "ENtuCsoa_qFB"
   },
   "outputs": [],
   "source": [
    "graph = {\n",
    "  '5' : ['3','7'],\n",
    "  '3' : ['2', '4'],\n",
    "  '7' : ['8'],\n",
    "  '2' : [],\n",
    "  '4' : ['8'],\n",
    "  '8' : []\n",
    "}\n",
    "G = nx.Graph(graph)\n",
    "visited = set()\n",
    "color_map = []\n",
    "\n",
    "def dfs_travel_matrix(visited, graph, node):\n",
    "  if node not in visited:\n",
    "    color_map.append('green')\n",
    "    print(node)\n",
    "    visited.add(node)\n",
    "\n",
    "    for neighbour in graph[node]:\n",
    "      dfs_travel_matrix(visited, graph, neighbour)\n",
    "\n",
    "def init_dfs_travel_matrix(visited, graph, node):\n",
    "  global color_map\n",
    "  color_map = []\n",
    "  visited = set()\n",
    "  dfs_travel_matrix(visited, graph, node)\n",
    "  draw_tree_dfs(graph, node, color_map)\n"
   ]
  },
  {
   "cell_type": "code",
   "execution_count": null,
   "metadata": {
    "colab": {
     "base_uri": "https://localhost:8080/",
     "height": 638
    },
    "id": "PluNqeZP_uJi",
    "outputId": "2e1df764-a14a-4d11-9373-d27bd0969271"
   },
   "outputs": [],
   "source": [
    "print(\"Following is the Depth-First Search\")\n",
    "init_dfs_travel_matrix(visited, G, '5')"
   ]
  },
  {
   "cell_type": "markdown",
   "metadata": {
    "id": "_dNarD8__2eR"
   },
   "source": [
    "# **TÌM KIẾM LEO NÚI**"
   ]
  },
  {
   "cell_type": "code",
   "execution_count": null,
   "metadata": {
    "colab": {
     "base_uri": "https://localhost:8080/"
    },
    "id": "YnoW1gVUAS_R",
    "outputId": "2d18af2c-aae3-4204-8a55-a8189a06bda5"
   },
   "outputs": [],
   "source": [
    "!pip install networkx\n",
    "!apt install libgraphviz-dev\n",
    "!pip install pygraphviz"
   ]
  },
  {
   "cell_type": "code",
   "execution_count": null,
   "metadata": {
    "id": "l5Ws9ZUwAXRA"
   },
   "outputs": [],
   "source": [
    "from collections import defaultdict\n",
    "from queue import PriorityQueue\n",
    "from collections import deque\n",
    "import networkx as nx\n",
    "import matplotlib.pyplot as plt\n",
    "import numpy as np\n",
    "import random"
   ]
  },
  {
   "cell_type": "markdown",
   "metadata": {
    "id": "g2tPfzkPAC7h"
   },
   "source": [
    "## **LEO NÚI ĐƠN GIẢN**"
   ]
  },
  {
   "cell_type": "code",
   "execution_count": null,
   "metadata": {
    "colab": {
     "base_uri": "https://localhost:8080/"
    },
    "id": "TFZYRKK7AluK",
    "outputId": "cc7c90a9-9d6b-4ade-f863-ffe3138314be"
   },
   "outputs": [],
   "source": [
    "data = defaultdict(list)\n",
    "data['A'] = ['B', 'C', 'D', 6]\n",
    "data['B'] = ['E', 'F', 5]\n",
    "data['C'] = ['G', 'H', 2]\n",
    "data['D'] = ['I', 'J', 3]\n",
    "data['E'] = [3]\n",
    "data['F'] = ['K', 'L', 'M', 1]\n",
    "data['G'] = [6]\n",
    "data['H'] = ['N', 'O', 1]\n",
    "data['I'] = [5]\n",
    "data['J'] = [4]\n",
    "data['K'] = [2]\n",
    "data['L'] = [0]\n",
    "data['M'] = [4]\n",
    "data['N'] = [0]\n",
    "data['O'] = [4]\n",
    "\n",
    "data_G = defaultdict(list)\n",
    "for i in data:\n",
    "  data_G[i] = data[i][:-1]\n",
    "print(data_G)"
   ]
  },
  {
   "cell_type": "code",
   "execution_count": null,
   "metadata": {
    "id": "_bzvoDSRAtH4"
   },
   "outputs": [],
   "source": [
    "class Node:\n",
    "    def __init__(self, name, par=None, h=0):\n",
    "        self.name = name\n",
    "        self.par = par\n",
    "        self.h = h\n",
    "\n",
    "    def display(self):\n",
    "        print(self.name, self.h)\n",
    "\n",
    "    def __lt__(self, other):\n",
    "        if (other == None):\n",
    "            return False\n",
    "        return self.h < other.h\n",
    "\n",
    "    def __eq__(self, other):\n",
    "        if other == None:\n",
    "            return False\n",
    "        return self.name == other.name\n"
   ]
  },
  {
   "cell_type": "code",
   "execution_count": null,
   "metadata": {
    "id": "wkBQ0KmVAuTp"
   },
   "outputs": [],
   "source": [
    "#Hàm so sánh\n",
    "def equal(O, G):\n",
    "    if O.name == G.name:\n",
    "        return True\n",
    "    return False\n",
    "#Hàm kiểm tra mức độ ưu tiên\n",
    "def CheckInPriority(tmp, c):\n",
    "    if tmp == None:\n",
    "        return False\n",
    "    return (tmp in c.queue)\n",
    "#Hàm trả về chi phí (trọng số)\n",
    "def getPath(O, distance):\n",
    "    print(O.name)\n",
    "    distance += O.h\n",
    "    if O.par != None:\n",
    "        getPath(O.par, distance)\n",
    "    else:\n",
    "        print('distance', distance)\n",
    "        return\n"
   ]
  },
  {
   "cell_type": "code",
   "execution_count": null,
   "metadata": {
    "id": "xXsI2ba3A13J"
   },
   "outputs": [],
   "source": [
    "node_traveled_easy = []\n",
    "\n",
    "def simple_hill_climbing(S=Node('A'), G=Node('N')):\n",
    "    global name\n",
    "    global node_traveled_easy\n",
    "    node_traveled_easy = []\n",
    "    Open = PriorityQueue()\n",
    "    Closed = PriorityQueue()\n",
    "    S.h = data[S.name][-1]\n",
    "    Open.put(S)\n",
    "    while True:\n",
    "        if Open.empty():\n",
    "            print('Tim kiem that bai')\n",
    "            return\n",
    "        O = Open.get()\n",
    "        Closed.put(O)\n",
    "        print('Duyet:', O.name, O.h)\n",
    "        node_traveled_easy.append(O.name)\n",
    "        if equal(O, G):\n",
    "            print('Tim kiem thanh cong!')\n",
    "            distance = 0\n",
    "            getPath(O, distance)\n",
    "            return\n",
    "\n",
    "        i = 0\n",
    "        while i < len(data[O.name]) - 1:\n",
    "            name = data[O.name][i]\n",
    "            h = data[name][-1]\n",
    "\n",
    "            if h < O.h:\n",
    "                child_node = Node(name=name, h=h)\n",
    "                child_node.par = O\n",
    "\n",
    "                th1 = CheckInPriority(child_node, Open)\n",
    "                th2 = CheckInPriority(child_node, Closed)\n",
    "\n",
    "                if not th1 and not th2:\n",
    "                    Open.put(child_node)\n",
    "\n",
    "                    # break out of the loop once we add a child to Open\n",
    "                    break\n",
    "\n",
    "            i += 1\n",
    "\n",
    "    return"
   ]
  },
  {
   "cell_type": "code",
   "execution_count": null,
   "metadata": {
    "colab": {
     "base_uri": "https://localhost:8080/",
     "height": 585
    },
    "id": "7ApmaqRhA7yQ",
    "outputId": "12a539ff-3a28-4498-bd8a-06a2a359a904"
   },
   "outputs": [],
   "source": [
    "def draw_tree_bfs(graph, start, color_map):\n",
    "  bfs_tree = nx.bfs_tree(graph, start)\n",
    "\n",
    "  # Get the layout for the BFS tree\n",
    "  pos = nx.nx_agraph.graphviz_layout(bfs_tree, prog='dot')\n",
    "  # Draw the BFS tree\n",
    "  nx.draw(\n",
    "      graph,\n",
    "      pos=pos,\n",
    "      node_color=color_map,\n",
    "      with_labels=True,\n",
    "      font_weight='bold',\n",
    "      arrows=True,\n",
    "      arrowstyle='-',\n",
    "      font_color='white',\n",
    "      node_size=2000)\n",
    "\n",
    "  # Show the plot\n",
    "  plt.show()\n",
    "\n",
    "def get_bfs_color_map_easy(visited, graph, node):\n",
    "  color_map = []\n",
    "  visited = [node]\n",
    "  queue = [node]\n",
    "  while queue:\n",
    "    # Creating loop to visit each node\n",
    "    m = queue.pop(0)\n",
    "    if m in node_traveled_easy:\n",
    "      color_map.append('green')\n",
    "    else:\n",
    "      color_map.append('red')\n",
    "\n",
    "    for neighbour in graph[m]:\n",
    "      if neighbour not in visited:\n",
    "          visited.append(neighbour)\n",
    "          queue.append(neighbour)\n",
    "\n",
    "  return color_map\n",
    "\n",
    "G = nx.Graph(data_G)\n",
    "simple_hill_climbing(Node('A'),Node('N'))\n",
    "color_map = get_bfs_color_map_easy([], data_G, 'A')\n",
    "draw_tree_bfs(G, 'A', color_map)"
   ]
  },
  {
   "cell_type": "markdown",
   "metadata": {
    "id": "n7g1FB5vBAGo"
   },
   "source": [
    "## **TÌM KIẾM LEO NÚI DỐC ĐỨNG**"
   ]
  },
  {
   "cell_type": "code",
   "execution_count": null,
   "metadata": {
    "colab": {
     "base_uri": "https://localhost:8080/"
    },
    "id": "3DFEll7fBBUK",
    "outputId": "be8efd85-d527-43a2-af3a-e90a38083421"
   },
   "outputs": [],
   "source": [
    "data = defaultdict(list)\n",
    "data['A'] = ['B', 'C', 'D', 6]\n",
    "data['B'] = ['E', 'F', 5]\n",
    "data['C'] = ['G', 'H', 3]\n",
    "data['D'] = ['I', 'J', 4]\n",
    "data['E'] = [3]\n",
    "data['F'] = ['K', 'L', 'M', 1]\n",
    "data['G'] = [6]\n",
    "data['H'] = ['N', 'O', 1]\n",
    "data['I'] = [5]\n",
    "data['J'] = [4]\n",
    "data['K'] = [2]\n",
    "data['L'] = [0]\n",
    "data['M'] = [4]\n",
    "data['N'] = [0]\n",
    "data['O'] = [4]\n",
    "\n",
    "data_G_vertical = defaultdict(list)\n",
    "for i in data:\n",
    "  data_G_vertical[i] = data[i][:-1]\n",
    "print(data_G_vertical)"
   ]
  },
  {
   "cell_type": "code",
   "execution_count": null,
   "metadata": {
    "id": "gnnU7J6FBHQx"
   },
   "outputs": [],
   "source": [
    "class Node:\n",
    "    def __init__(self, name, par=None, h=0):\n",
    "        self.name = name\n",
    "        self.par = par\n",
    "        self.h = h\n",
    "\n",
    "    def display(self):\n",
    "        print(self.name, self.h)\n",
    "\n",
    "    def __lt__(self, other):\n",
    "        if (other == None):\n",
    "            return False\n",
    "        return self.h < other.h\n",
    "\n",
    "    def __eq__(self, other):\n",
    "        if other == None:\n",
    "            return False\n",
    "        return self.name == other.name\n"
   ]
  },
  {
   "cell_type": "code",
   "execution_count": null,
   "metadata": {
    "id": "s_r2zK_bBLVx"
   },
   "outputs": [],
   "source": [
    "def equal(O, G):\n",
    "    if O.name == G.name:\n",
    "        return True\n",
    "    return False\n",
    "\n",
    "\n",
    "def CheckInPriority(tmp, c):\n",
    "    if tmp == None:\n",
    "        return False\n",
    "    return (tmp in c.queue)\n",
    "\n",
    "\n",
    "def getPath(O, distance):\n",
    "    print(O.name)\n",
    "    distance += O.h\n",
    "    if O.par != None:\n",
    "        getPath(O.par, distance)\n",
    "    else:\n",
    "        print('distance', distance)\n",
    "        return\n"
   ]
  },
  {
   "cell_type": "code",
   "execution_count": null,
   "metadata": {
    "id": "rYGt9oD-BQ5w"
   },
   "outputs": [],
   "source": [
    "node_traveled_vertical = []\n",
    "\n",
    "def vertical_hill_climbing(S=Node('A'), G=Node('N')):\n",
    "    global name\n",
    "    global node_traveled_vertical\n",
    "    node_traveled_vertical = []\n",
    "    Open = PriorityQueue()\n",
    "    Closed = PriorityQueue()\n",
    "    S.h = data[S.name][-1]\n",
    "    Open.put(S)\n",
    "    while True:\n",
    "        if Open.empty():\n",
    "            print('tim kiem that bai')\n",
    "            return\n",
    "        O = Open.get()\n",
    "        Closed.put(O)\n",
    "        print('Duyet:', O.name, O.h)\n",
    "        node_traveled_vertical.append(O.name)\n",
    "        if equal(O, G):\n",
    "            print('tim kiem thanh cong!')\n",
    "            distance = 0\n",
    "            getPath(O, distance)\n",
    "            return\n",
    "\n",
    "        i = 0\n",
    "        min_h = float('inf')\n",
    "        min_node = None\n",
    "        while i < len(data[O.name]) - 1:\n",
    "            name = data[O.name][i]\n",
    "            h = data[name][-1]\n",
    "\n",
    "            if h < O.h and h < min_h:\n",
    "                min_h = h\n",
    "                min_node = Node(name=name, h=h)\n",
    "                min_node.par = O\n",
    "\n",
    "            i += 1\n",
    "\n",
    "        if min_node is not None:\n",
    "            th1 = CheckInPriority(min_node, Open)\n",
    "            th2 = CheckInPriority(min_node, Closed)\n",
    "\n",
    "            if not th1 and not th2:\n",
    "                Open.put(min_node)\n",
    "\n",
    "    return\n"
   ]
  },
  {
   "cell_type": "code",
   "execution_count": null,
   "metadata": {
    "colab": {
     "base_uri": "https://localhost:8080/",
     "height": 1000
    },
    "id": "ZrJoKIEYBU2I",
    "outputId": "8acd3b90-f75e-4061-a806-4960f9ce6f22"
   },
   "outputs": [],
   "source": [
    "def draw_tree(graph, start, color_map, layout = 'tree'):\n",
    "  bfs_tree = nx.bfs_tree(graph, start)\n",
    "\n",
    "  # Get the layout for the BFS tree\n",
    "  if layout == 'tree':\n",
    "    pos = nx.nx_agraph.graphviz_layout(bfs_tree, prog='dot')  # Layout cây\n",
    "  else:\n",
    "    pos = nx.spring_layout(bfs_tree) # Layout ma trận\n",
    "  # Draw the BFS tree\n",
    "  nx.draw(\n",
    "      graph,\n",
    "      pos=pos,\n",
    "      node_color=color_map,\n",
    "      with_labels=True,\n",
    "      font_weight='bold',\n",
    "      arrows=True,\n",
    "      arrowstyle='-',\n",
    "      font_color='white',\n",
    "      node_size=2000)\n",
    "\n",
    "  # Show the plot\n",
    "  plt.show()\n",
    "\n",
    "def get_bfs_color_map_vertical(visited, graph, node):\n",
    "  color_map = []\n",
    "  visited = [node]\n",
    "  queue = [node]\n",
    "  while queue:\n",
    "    # Creating loop to visit each node\n",
    "    m = queue.pop(0)\n",
    "    if m in node_traveled_vertical:\n",
    "      color_map.append('green')\n",
    "    else:\n",
    "      color_map.append('red')\n",
    "\n",
    "    for neighbour in graph[m]:\n",
    "      if neighbour not in visited:\n",
    "          visited.append(neighbour)\n",
    "          queue.append(neighbour)\n",
    "\n",
    "  return color_map\n",
    "\n",
    "G = nx.Graph(data_G_vertical)\n",
    "vertical_hill_climbing(Node('A'), Node('N'))\n",
    "color_map = get_bfs_color_map_vertical([], data_G_vertical, 'A')\n",
    "draw_tree(G, 'A', color_map)\n",
    "draw_tree(G, 'A', color_map, 'matrix')"
   ]
  },
  {
   "cell_type": "markdown",
   "metadata": {
    "id": "qjmKZFSRBarK"
   },
   "source": [
    "\n",
    "## **Bài toán: The travelling salesman problem**"
   ]
  },
  {
   "cell_type": "code",
   "execution_count": null,
   "metadata": {
    "id": "gaPMDxHIBdY6"
   },
   "outputs": [],
   "source": [
    "#coordinate of the points/cities\n",
    "coordinate = np.array([[1,2], [30,21], [56,23], [8,18], [20,50], [3,4], [11,6], [6,7],\n",
    "                       [15,20], [10,9], [12,12], [46,17], [60,55], [100,80], [16,13]])\n"
   ]
  },
  {
   "cell_type": "code",
   "execution_count": null,
   "metadata": {
    "id": "_3Ft-EzPBhLB"
   },
   "outputs": [],
   "source": [
    "def generate_matrix(coordinate):\n",
    "    matrix = []\n",
    "    for i in range(len(coordinate)):\n",
    "        for j in range(len(coordinate)) :\n",
    "            p = np.linalg.norm(coordinate[i] - coordinate[j])\n",
    "            matrix.append(p)\n",
    "    matrix = np.reshape(matrix, (len(coordinate),len(coordinate)))\n",
    "    #print(matrix)\n",
    "    return matrix\n"
   ]
  },
  {
   "cell_type": "code",
   "execution_count": null,
   "metadata": {
    "id": "mdbY8yD_BjwB"
   },
   "outputs": [],
   "source": [
    "def solution(matrix):\n",
    "    points = list(range(0, len(matrix)))\n",
    "    solution = []\n",
    "    for i in range(0, len(matrix)):\n",
    "        random_point = points[random.randint(0, len(points) - 1)]\n",
    "        solution.append(random_point)\n",
    "        points.remove(random_point)\n",
    "\n",
    "    return solution\n"
   ]
  },
  {
   "cell_type": "code",
   "execution_count": null,
   "metadata": {
    "id": "NC00hsR-Bojo"
   },
   "outputs": [],
   "source": [
    "def path_length(matrix, solution):\n",
    "    cycle_length = 0\n",
    "    for i in range(0, len(solution)):\n",
    "        cycle_length += matrix[solution[i]][solution[i - 1]]\n",
    "    return cycle_length\n"
   ]
  },
  {
   "cell_type": "code",
   "execution_count": null,
   "metadata": {
    "id": "3-5jk07yBsSQ"
   },
   "outputs": [],
   "source": [
    "def neighbors(matrix, solution):\n",
    "    neighbors = []\n",
    "    for i in range(len(solution)):\n",
    "        for j in range(i + 1, len(solution)):\n",
    "            neighbor = solution.copy()\n",
    "            neighbor[i] = solution[j]\n",
    "            neighbor[j] = solution[i]\n",
    "            neighbors.append(neighbor)\n",
    "\n",
    "    #assume that the first neighbor in the list is the best neighbor\n",
    "    best_neighbor = neighbors[0]\n",
    "    best_path = path_length(matrix, best_neighbor)\n",
    "\n",
    "    #check if there is a better neighbor\n",
    "    for neighbor in neighbors:\n",
    "        current_path = path_length(matrix, neighbor)\n",
    "        if current_path < best_path:\n",
    "            best_path = current_path\n",
    "            best_neighbor = neighbor\n",
    "    return best_neighbor, best_path"
   ]
  },
  {
   "cell_type": "code",
   "execution_count": null,
   "metadata": {
    "id": "HR57YNvfBt-J"
   },
   "outputs": [],
   "source": [
    "def hill_climbing(coordinate):\n",
    "    matrix = generate_matrix(coordinate)\n",
    "\n",
    "    current_solution = solution(matrix)\n",
    "    current_path = path_length(matrix, current_solution)\n",
    "    neighbor = neighbors(matrix,current_solution)[0]\n",
    "    best_neighbor, best_neighbor_path = neighbors(matrix, neighbor)\n",
    "\n",
    "    while best_neighbor_path < current_path:\n",
    "        current_solution = best_neighbor\n",
    "        current_path = best_neighbor_path\n",
    "        neighbor = neighbors(matrix, current_solution)[0]\n",
    "        best_neighbor, best_neighbor_path = neighbors(matrix, neighbor)\n",
    "\n",
    "    return current_path, current_solution"
   ]
  },
  {
   "cell_type": "code",
   "execution_count": null,
   "metadata": {
    "id": "sL6eFL0gBxj5"
   },
   "outputs": [],
   "source": [
    "def graph(coordinate):\n",
    "    final_solution = hill_climbing(coordinate)\n",
    "    G = nx.DiGraph()\n",
    "    temp = final_solution[1]\n",
    "    G.add_nodes_from(final_solution[1])\n",
    "\n",
    "    for i in range(1, len(final_solution[1])):\n",
    "        G.add_edge(temp[i - 1], temp[i])\n",
    "    G.add_edge(temp[len(temp) - 1], temp[0])\n",
    "    color_map = []\n",
    "    for node in G:\n",
    "        if node == final_solution[1][0]:\n",
    "            color_map.append('lime')\n",
    "        else:\n",
    "            color_map.append('plum')\n",
    "    nx.draw(G, with_labels = True, node_color = color_map, node_size = 1000)\n",
    "    print(\"The solution is \\n\", final_solution[1], \"\\nThe path length is \\n\", final_solution[0])\n",
    "    return\n"
   ]
  },
  {
   "cell_type": "code",
   "execution_count": null,
   "metadata": {
    "colab": {
     "base_uri": "https://localhost:8080/",
     "height": 569
    },
    "id": "CnOfKYJQB0_B",
    "outputId": "9a56544b-d8d8-429f-b29c-667b9fefffbd"
   },
   "outputs": [],
   "source": [
    "graph(coordinate)"
   ]
  },
  {
   "cell_type": "markdown",
   "metadata": {
    "id": "q2YBdJmhCbXZ"
   },
   "source": [
    "# **TÌM KIẾM TỐT NHẤT ĐẦU TIÊN**"
   ]
  },
  {
   "cell_type": "code",
   "execution_count": null,
   "metadata": {
    "colab": {
     "base_uri": "https://localhost:8080/"
    },
    "id": "8waQBsmwCvAx",
    "outputId": "ddd8bdfd-4ecf-409c-e29d-ccba17b0c9d6"
   },
   "outputs": [],
   "source": [
    "!pip install networkx\n",
    "!apt install libgraphviz-dev\n",
    "!pip install pygraphviz"
   ]
  },
  {
   "cell_type": "code",
   "execution_count": null,
   "metadata": {
    "id": "P5pgBnzBCzkz"
   },
   "outputs": [],
   "source": [
    "from collections import defaultdict\n",
    "from queue import PriorityQueue\n",
    "from collections import deque\n",
    "import networkx as nx\n",
    "import matplotlib.pyplot as plt"
   ]
  },
  {
   "cell_type": "code",
   "execution_count": null,
   "metadata": {
    "id": "HcuWmDnWC24g"
   },
   "outputs": [],
   "source": [
    "#Khởi tạo các thuộc tính của node\n",
    "class Node:\n",
    "    def __init__(self, name, par=None, h=0):\n",
    "        self.name = name\n",
    "        self.par = par\n",
    "        self.h = h\n",
    "\n",
    "    def display(self):\n",
    "        print(self.name, self.h)\n",
    "\n",
    "    def __lt__(self, other):\n",
    "        if (other == None):\n",
    "            return False\n",
    "        return self.h < other.h\n",
    "\n",
    "    def __eq__(self, other):\n",
    "        if other == None:\n",
    "            return False\n",
    "        return self.name == other.name\n"
   ]
  },
  {
   "cell_type": "code",
   "execution_count": null,
   "metadata": {
    "id": "XdjtK-ZsC675"
   },
   "outputs": [],
   "source": [
    "#So sánh\n",
    "def equal(O, G):\n",
    "    if O.name == G.name:\n",
    "        return True\n",
    "    return False\n",
    "\n",
    "#Kiểm tra mức độ ưu tiên\n",
    "def CheckInPriority(tmp, c):\n",
    "    if tmp == None:\n",
    "        return False\n",
    "    return (tmp in c.queue)\n",
    "\n",
    "#Tính khoảng cách\n",
    "def getPath(O, distance):\n",
    "    print(O.name)\n",
    "    distance += O.h\n",
    "    if O.par != None:\n",
    "        getPath(O.par, distance)\n",
    "    else:\n",
    "        print('distance', distance)\n",
    "        return\n"
   ]
  },
  {
   "cell_type": "code",
   "execution_count": null,
   "metadata": {
    "id": "pms4QJjvDATp"
   },
   "outputs": [],
   "source": [
    "#Xây dựng thuật toán best first search\n",
    "traveled_node = []\n",
    "def bfs(S=Node('A'), G=Node('N')):\n",
    "    global name\n",
    "    global traveled_node\n",
    "    traveled_node = []\n",
    "    Open = PriorityQueue()\n",
    "    Closed = PriorityQueue()\n",
    "    S.h = data[S.name][-1]\n",
    "    Open.put(S)\n",
    "    while True:\n",
    "        if Open.empty():\n",
    "            print('tim kiem that bai')\n",
    "            return\n",
    "        O = Open.get()\n",
    "        Closed.put(O)\n",
    "        print('Duyet:', O.name, O.h)\n",
    "        traveled_node.append(O.name)\n",
    "        if equal(O, G):\n",
    "            print('tim kiem thanh cong!')\n",
    "            distance = 0\n",
    "            getPath(O, distance)\n",
    "            return\n",
    "\n",
    "        i = 0\n",
    "        while i < len(data[O.name]) - 1:\n",
    "            name = data[O.name][i]\n",
    "            h = data[name][-1]\n",
    "\n",
    "            tmp = Node(name=name, h=h)\n",
    "            tmp.par = O\n",
    "\n",
    "            ok1 = CheckInPriority(tmp, Open)\n",
    "            ok2 = CheckInPriority(tmp, Closed)\n",
    "\n",
    "            if not ok1 and not ok2:\n",
    "                Open.put(tmp)\n",
    "\n",
    "            i += 1\n"
   ]
  },
  {
   "cell_type": "code",
   "execution_count": null,
   "metadata": {
    "colab": {
     "base_uri": "https://localhost:8080/"
    },
    "id": "8CRgJV4HDDUZ",
    "outputId": "bf450df7-e4e0-457b-dd31-8f3f8fbcaa9d"
   },
   "outputs": [],
   "source": [
    "data = defaultdict(list)\n",
    "data['A'] = ['B', 'C', 'D', 6]\n",
    "data['B'] = ['E', 'F', 3]\n",
    "data['C'] = ['G', 'H', 4]\n",
    "data['D'] = ['I', 'J', 5]\n",
    "data['E'] = [3]\n",
    "data['F'] = ['K', 'L', 'M', 1]\n",
    "data['G'] = [6]\n",
    "data['H'] = ['N', 'O', 2]\n",
    "data['I'] = [5]\n",
    "data['J'] = [4]\n",
    "data['K'] = [2]\n",
    "data['L'] = [0]\n",
    "data['M'] = [4]\n",
    "data['N'] = [0]\n",
    "data['O'] = [4]\n",
    "\n",
    "data_G = defaultdict(list)\n",
    "for i in data:\n",
    "  data_G[i] = data[i][:-1]\n",
    "print(data_G)"
   ]
  },
  {
   "cell_type": "code",
   "execution_count": null,
   "metadata": {
    "id": "xIIFvFbrDKSJ"
   },
   "outputs": [],
   "source": [
    "def draw_tree(graph, start, color_map):\n",
    "  bfs_tree = nx.bfs_tree(graph, start)\n",
    "\n",
    "  # Get the layout for the BFS tree\n",
    "  pos = nx.nx_agraph.graphviz_layout(bfs_tree, prog='dot')\n",
    "\n",
    "  # Draw the BFS tree\n",
    "  nx.draw(graph,\n",
    "          pos=pos,\n",
    "          node_color=color_map,\n",
    "          node_size=2000,\n",
    "          with_labels=True,\n",
    "          font_color=\"white\",\n",
    "          font_weight='bold',\n",
    "          font_size=20,\n",
    "          arrows=True,\n",
    "          arrowstyle='->')\n",
    "\n",
    "  # Show the plot\n",
    "  plt.show()\n"
   ]
  },
  {
   "cell_type": "code",
   "execution_count": null,
   "metadata": {
    "id": "WidnPi85DNVb"
   },
   "outputs": [],
   "source": [
    "def get_bfs_color_map(visited, graph, node):\n",
    "  global traveled_node\n",
    "  visited = [node]\n",
    "  queue = [node]\n",
    "  color_map = []\n",
    "  while queue:\n",
    "    m = queue.pop(0)\n",
    "    if m in traveled_node:\n",
    "      color_map.append('green')\n",
    "    else:\n",
    "      color_map.append('red')\n",
    "\n",
    "    for neighbour in graph[m]:\n",
    "      if neighbour not in visited:\n",
    "          visited.append(neighbour)\n",
    "          queue.append(neighbour)\n",
    "\n",
    "  return color_map\n"
   ]
  },
  {
   "cell_type": "code",
   "execution_count": null,
   "metadata": {
    "colab": {
     "base_uri": "https://localhost:8080/",
     "height": 797
    },
    "id": "COzZF-IlDQih",
    "outputId": "824852d4-21ea-4727-91b3-27521f6592ba"
   },
   "outputs": [],
   "source": [
    "G = nx.Graph(data_G)\n",
    "bfs(Node('A'), Node('N'))\n",
    "color_map = get_bfs_color_map([], G, 'A')\n",
    "print(color_map)\n",
    "draw_tree(G, 'A', color_map)"
   ]
  },
  {
   "cell_type": "markdown",
   "metadata": {
    "id": "_NlM21VZDasZ"
   },
   "source": [
    "# GIẢI THUẬT A* **văn bản in đậm**"
   ]
  },
  {
   "cell_type": "code",
   "execution_count": null,
   "metadata": {
    "colab": {
     "base_uri": "https://localhost:8080/"
    },
    "id": "1MTMzBbTDerB",
    "outputId": "622f2d09-f576-451c-9cf4-79a912f67e7e"
   },
   "outputs": [],
   "source": [
    "!apt install libgraphviz-dev\n",
    "!pip install pygraphviz\n",
    "import networkx as nx\n",
    "from matplotlib import pyplot as plt"
   ]
  },
  {
   "cell_type": "code",
   "execution_count": null,
   "metadata": {
    "id": "m9KByZk5DpG_"
   },
   "outputs": [],
   "source": [
    "def aStarAlgo(start_node, stop_node):\n",
    "  open_set = set(start_node)\n",
    "  closed_set = set()\n",
    "  g = {} #store distance from starting node\n",
    "  parents = {}# parents contains an adjacency map of all nodes\n",
    "  #ditance of starting node from itself is zero\n",
    "  g[start_node] = 0\n",
    "  #start_node is root node i.e it has no parent nodes\n",
    "  #so start_node is set to its own parent node\n",
    "  parents[start_node] = start_node\n",
    "  while len(open_set) > 0:\n",
    "    n = None\n",
    "    #node with lowest f() is found\n",
    "    for v in open_set:\n",
    "      if n == None or g[v] + heuristic(v) < g[n] + heuristic(n):\n",
    "        n = v\n",
    "    if n == stop_node or Graph_nodes[n] == None:\n",
    "      pass\n",
    "    else:\n",
    "        for (m, weight) in get_neighbors(n):\n",
    "          #nodes 'm' not in first and last set are added to first\n",
    "          #n is set its parent\n",
    "          if m not in open_set and m not in closed_set:\n",
    "            open_set.add(m)\n",
    "            parents[m] = n\n",
    "            g[m] = g[n] + weight\n",
    "            #for each node m,compare its distance from start i.e g(m) to the\n",
    "            #from start through n node\n",
    "          else:\n",
    "            if g[m] > g[n] + weight:\n",
    "              #update g(m)\n",
    "              g[m] = g[n] + weight\n",
    "              #change parent of m to n\n",
    "              parents[m] = n\n",
    "              #if m in closed set,remove and add to open\n",
    "              if m in closed_set:\n",
    "                closed_set.remove(m)\n",
    "                open_set.add(m)\n",
    "\n",
    "    if n == None:\n",
    "      print('Path does not exist!')\n",
    "      return None\n",
    "\n",
    "    # if the current node is the stop_node\n",
    "    # then we begin reconstructin the path from it to the start_node\n",
    "    if n == stop_node:\n",
    "      path = []\n",
    "      while parents[n] != n:\n",
    "        path.append(n)\n",
    "        n = parents[n]\n",
    "      path.append(start_node)\n",
    "      path.reverse()\n",
    "      print('Path found: {}'.format(path))\n",
    "      plot_graph(Graph_nodes, start_node, stop_node, path)\n",
    "      return None\n",
    "\n",
    "    # remove n from the open_list, and add it to closed_list\n",
    "    # because all of his neighbors were inspected\n",
    "    open_set.remove(n)\n",
    "    closed_set.add(n)\n",
    "  print('Path does not exist!')\n"
   ]
  },
  {
   "cell_type": "code",
   "execution_count": null,
   "metadata": {
    "id": "3GjcoIAHH4di"
   },
   "outputs": [],
   "source": [
    "#define fuction to return neighbor and its distance from the passed node\n",
    "def get_neighbors(v):\n",
    "    if v in Graph_nodes:\n",
    "        return Graph_nodes[v]\n",
    "    else:\n",
    "        return None"
   ]
  },
  {
   "cell_type": "code",
   "execution_count": null,
   "metadata": {
    "id": "GD_6q2JpI-E7"
   },
   "outputs": [],
   "source": [
    "def heuristic(n):\n",
    "  H_dist = {\n",
    "    'A': 11,\n",
    "    'B': 8,\n",
    "    'C': 8,\n",
    "    'D': 4,\n",
    "    'E': 2,\n",
    "    'Z': 0\n",
    "  }\n",
    "  return H_dist[n]\n"
   ]
  },
  {
   "cell_type": "code",
   "execution_count": null,
   "metadata": {
    "id": "JoLJRuS3JAnz"
   },
   "outputs": [],
   "source": [
    "Graph_nodes = {\n",
    "    'A': [('B', 5), ('C', 4)],\n",
    "    'B': [('A', 5),('C', 1)],\n",
    "    'C': [('A', 4), ('B', 1), ('D', 8)],\n",
    "    'D': [('B', 5), ('C', 8), ('E', 2), ('Z', 6)],\n",
    "    'E': [('C', 10), ('D', 2), ('Z', 5)]\n",
    "}\n"
   ]
  },
  {
   "cell_type": "code",
   "execution_count": null,
   "metadata": {
    "id": "15iwhJXVJEmb"
   },
   "outputs": [],
   "source": [
    "def plot_graph(Graph_nodes, start_node, end_node, visited_nodes):\n",
    "    G = nx.Graph()\n",
    "    edges = []\n",
    "    for node, neighbors in Graph_nodes.items():\n",
    "        for neighbor, weight in neighbors or []:\n",
    "            edges.append((node, neighbor, weight))\n",
    "    G.add_weighted_edges_from(edges)\n",
    "    bfs_tree = nx.bfs_tree(G,start_node)\n",
    "    pos = nx.nx_agraph.graphviz_layout(bfs_tree, prog='dot')\n",
    "    nx.draw_networkx_nodes(G, pos, node_color='blue', node_size=300)\n",
    "    nx.draw_networkx_nodes(G, pos, nodelist=[start_node], node_color='red', node_size=500)\n",
    "    nx.draw_networkx_nodes(G, pos, nodelist=[end_node], node_color='green', node_size=500)\n",
    "    nx.draw_networkx_nodes(G, pos, nodelist=visited_nodes, node_color='yellow', node_size=300)\n",
    "    nx.draw_networkx_edges(G, pos)\n",
    "    nx.draw_networkx_edge_labels(G, pos, edge_labels={(u, v): d['weight'] for u, v, d in G.edges(data=True)})\n",
    "    nx.draw_networkx_labels(G, pos)\n",
    "    plt.show()\n"
   ]
  },
  {
   "cell_type": "code",
   "execution_count": null,
   "metadata": {
    "colab": {
     "base_uri": "https://localhost:8080/",
     "height": 423
    },
    "id": "MPm4h2vbJF2S",
    "outputId": "d0eac0eb-514d-4e27-90bf-192c7bccce3f"
   },
   "outputs": [],
   "source": [
    "aStarAlgo('A', 'Z')"
   ]
  },
  {
   "cell_type": "markdown",
   "metadata": {
    "id": "Er692Cr4JLdL"
   },
   "source": [
    "### **Thuật toán A* trong trò chơi 8-Puzzle**"
   ]
  },
  {
   "cell_type": "code",
   "execution_count": null,
   "metadata": {
    "colab": {
     "base_uri": "https://localhost:8080/"
    },
    "id": "YJSUzPNNJMnD",
    "outputId": "5d65e15f-a627-4885-a5e3-1df514183353"
   },
   "outputs": [],
   "source": [
    "from graphviz import Digraph\n",
    "import os\n",
    "import copy\n",
    "import functools\n",
    "import time\n",
    "\n",
    "\n",
    "counter = 1\n",
    "counter = 1\n",
    "initial_state = [[1, 2, 3],\n",
    "                [6, 7, 0],\n",
    "                [8, 5, 4]]\n",
    "\n",
    "final_state = [[1, 2, 3],\n",
    "                [8, 0, 4],\n",
    "                [7, 6, 5]]\n",
    "\n",
    "\n",
    "class State(object):\n",
    "    def __init__(self, self_state, parent_id, parent_move, level):\n",
    "        global counter\n",
    "        self.self_id = counter\n",
    "        self.self_state = self_state\n",
    "        self.parent_id = parent_id\n",
    "        self.parent_move = parent_move\n",
    "        self.level = level\n",
    "        self.cost = 0\n",
    "        self.l_child = -1\n",
    "        self.u_child = -1\n",
    "        self.r_child = -1\n",
    "        self.d_child = -1\n",
    "        counter += 1\n",
    "\n",
    "    def set_child(self, state_id, move):\n",
    "        if move == \"left\":\n",
    "            self.l_child = state_id\n",
    "        elif move == \"right\":\n",
    "            self.r_child = state_id\n",
    "        elif move == \"up\":\n",
    "            self.u_child = state_id\n",
    "        elif move == \"down\":\n",
    "            self.d_child = state_id\n",
    "\n",
    "    def __repr__(self):\n",
    "        return str(self.self_state[0])+\"\\n\"+str(self.self_state[1])+\"\\n\"+str(self.self_state[2])\n",
    "\n",
    "\n",
    "def create_child(parent_state, move):\n",
    "    i = 0\n",
    "    j = 0\n",
    "    found = False\n",
    "    matrix = copy.deepcopy(parent_state)\n",
    "    for i in range(0, 3):\n",
    "        for j in range(0, 3):\n",
    "            if parent_state[i][j] == 0:\n",
    "                found = True\n",
    "                break\n",
    "        if found:\n",
    "            break\n",
    "    if move == \"left\":\n",
    "        if j == 0:\n",
    "            return -1\n",
    "        else:\n",
    "            matrix[i][j] = matrix[i][j - 1]\n",
    "            matrix[i][j - 1] = 0\n",
    "            return matrix\n",
    "    if move == \"right\":\n",
    "        if j == 2:\n",
    "            return -1\n",
    "        else:\n",
    "            matrix[i][j] = matrix[i][j + 1]\n",
    "            matrix[i][j + 1] = 0\n",
    "            return matrix\n",
    "    if move == \"up\":\n",
    "        if i == 0:\n",
    "            return -1\n",
    "        else:\n",
    "            matrix[i][j] = matrix[i - 1][j]\n",
    "            matrix[i - 1][j] = 0\n",
    "            return matrix\n",
    "\n",
    "    if move == \"down\":\n",
    "        if i == 2:\n",
    "            return -1\n",
    "        else:\n",
    "            matrix[i][j] = matrix[i + 1][j]\n",
    "            matrix[i + 1][j] = 0\n",
    "            return matrix\n",
    "\n",
    "\n",
    "explored = []\n",
    "unexplored = []\n",
    "\n",
    "def custom_sort(a, b):\n",
    "    if a.cost == b.cost:\n",
    "        return 0\n",
    "    elif a.cost < b.cost:\n",
    "        return 1\n",
    "    else:\n",
    "        return -1\n",
    "\n",
    "def manhattan_distance(current_matrix,final_state):\n",
    "    goal_matrix = final_state\n",
    "    distance = 0\n",
    "    for i in range(0,3):\n",
    "        for j in range(0,3):\n",
    "            if current_matrix[i][j] != 0:\n",
    "                for item in goal_matrix:\n",
    "                    if current_matrix[i][j] in item:\n",
    "                        x = goal_matrix.index(item)\n",
    "                        y = item.index(current_matrix[i][j])\n",
    "                distance = distance + (abs(x - i) + abs(y - j))\n",
    "    return distance\n",
    "\n",
    "\n",
    "def A_star():\n",
    "    global state_space_tree, explored, unexplored\n",
    "    global id_to_state\n",
    "    current_state = id_to_state[1]\n",
    "    counter_g = 0\n",
    "\n",
    "    dot = Digraph(comment='BFS graph')\n",
    "    dot.node(str(current_state.self_id), current_state.__str__())\n",
    "\n",
    "    while True:\n",
    "        explored.append(current_state)\n",
    "        # print(current_state.self_id, len(explored))\n",
    "        # # graph\n",
    "        # dot.node(str(current_state.self_id), current_state.__str__())\n",
    "        # dot.edge(str(current_state.parent_id), str(current_state.self_id), label=current_state.parent_move)\n",
    "        if current_state.self_state == final_state:\n",
    "            break\n",
    "        if current_state.u_child != -1:\n",
    "            child_state = id_to_state[current_state.u_child]\n",
    "            cost_child = counter_g + manhattan_distance(child_state.self_state,final_state)\n",
    "            child_state.cost = cost_child\n",
    "            if child_state not in explored and child_state not in unexplored:\n",
    "                unexplored.append(child_state)\n",
    "                # graph\n",
    "                dot.node(str(child_state.self_id), child_state.__str__())\n",
    "                dot.edge(str(current_state.self_id), str(child_state.self_id), label=child_state.parent_move)\n",
    "        if current_state.d_child != -1:\n",
    "            child_state = id_to_state[current_state.d_child]\n",
    "            cost_child = counter_g + manhattan_distance(child_state.self_state,final_state)\n",
    "            child_state.cost = cost_child\n",
    "            if child_state not in explored and child_state not in unexplored:\n",
    "                unexplored.append(child_state)\n",
    "                # graph\n",
    "                dot.node(str(child_state.self_id), child_state.__str__())\n",
    "                dot.edge(str(current_state.self_id), str(child_state.self_id), label=current_state.parent_move)\n",
    "        if current_state.l_child != -1:\n",
    "            child_state = id_to_state[current_state.l_child]\n",
    "            cost_child = counter_g + manhattan_distance(child_state.self_state,final_state)\n",
    "            child_state.cost = cost_child\n",
    "            if child_state not in explored and child_state not in unexplored:\n",
    "                unexplored.append(child_state)\n",
    "                # graph\n",
    "                dot.node(str(child_state.self_id), child_state.__str__())\n",
    "                dot.edge(str(current_state.self_id), str(child_state.self_id), label=current_state.parent_move)\n",
    "        if current_state.r_child != -1:\n",
    "            child_state = id_to_state[current_state.r_child]\n",
    "            cost_child = counter_g + manhattan_distance(child_state.self_state,final_state)\n",
    "            child_state.cost = cost_child\n",
    "            if child_state not in explored and child_state not in unexplored:\n",
    "                unexplored.append(child_state)\n",
    "                # graph\n",
    "                dot.node(str(child_state.self_id), child_state.__str__())\n",
    "                dot.edge(str(current_state.self_id), str(child_state.self_id), label=current_state.parent_move)\n",
    "\n",
    "        unexplored.sort(key=lambda x:x.cost)\n",
    "\n",
    "        current_state = unexplored.pop(0)\n",
    "        print([item.self_id for item in unexplored])\n",
    "        print([item.cost for item in unexplored])\n",
    "        print(\"\\n\")\n",
    "        # time.sleep(1)\n",
    "        counter_g += 1\n",
    "\n",
    "    dot.render('/content/drive/MyDrive/outputs/A_star_graph.gv', view=True)\n",
    "\n",
    "\n",
    "def Greedy_best_first():\n",
    "    global state_space_tree, explored, unexplored\n",
    "    global id_to_state\n",
    "    current_state = id_to_state[1]\n",
    "\n",
    "    explored = []\n",
    "    unexplored = []\n",
    "\n",
    "    dot = Digraph(comment='BFS graph')\n",
    "    dot.node(str(current_state.self_id), current_state.__str__())\n",
    "\n",
    "    while True:\n",
    "        explored.append(current_state)\n",
    "        # print(current_state.self_id, len(explored))\n",
    "        # # graph\n",
    "        # dot.node(str(current_state.self_id), current_state.__str__())\n",
    "        # dot.edge(str(current_state.parent_id), str(current_state.self_id), label=current_state.parent_move)\n",
    "        if current_state.self_state == final_state:\n",
    "            break\n",
    "        if current_state.u_child != -1:\n",
    "            child_state = id_to_state[current_state.u_child]\n",
    "            cost_child = manhattan_distance(child_state.self_state,final_state)\n",
    "            child_state.cost = cost_child\n",
    "            if child_state not in explored and child_state not in unexplored:\n",
    "                unexplored.append(child_state)\n",
    "                # graph\n",
    "                print(str(child_state.self_id))\n",
    "                dot.node(str(child_state.self_id), child_state.__str__())\n",
    "                dot.edge(str(current_state.self_id), str(child_state.self_id), label=current_state.parent_move+str(child_state.cost))\n",
    "        if current_state.d_child != -1:\n",
    "            child_state = id_to_state[current_state.d_child]\n",
    "            cost_child = manhattan_distance(child_state.self_state,final_state)\n",
    "            child_state.cost = cost_child\n",
    "            if child_state not in explored and child_state not in unexplored:\n",
    "                unexplored.append(child_state)\n",
    "                # graph\n",
    "                dot.node(str(child_state.self_id), child_state.__str__())\n",
    "                dot.edge(str(current_state.self_id), str(child_state.self_id), label=current_state.parent_move+str(child_state.cost))\n",
    "        if current_state.l_child != -1:\n",
    "            child_state = id_to_state[current_state.l_child]\n",
    "            cost_child = manhattan_distance(child_state.self_state,final_state)\n",
    "            child_state.cost = cost_child\n",
    "            if child_state not in explored and child_state not in unexplored:\n",
    "                unexplored.append(child_state)\n",
    "                # graph\n",
    "                dot.node(str(child_state.self_id), child_state.__str__())\n",
    "                dot.edge(str(current_state.self_id), str(child_state.self_id), label=current_state.parent_move+str(child_state.cost))\n",
    "        if current_state.r_child != -1:\n",
    "            child_state = id_to_state[current_state.r_child]\n",
    "            cost_child = manhattan_distance(child_state.self_state,final_state)\n",
    "            child_state.cost = cost_child\n",
    "            if child_state not in explored and child_state not in unexplored:\n",
    "                unexplored.append(child_state)\n",
    "                # graph\n",
    "                dot.node(str(child_state.self_id), child_state.__str__())\n",
    "                dot.edge(str(current_state.self_id), str(child_state.self_id), label=current_state.parent_move+str(child_state.cost))\n",
    "\n",
    "        unexplored.sort(key=lambda x:x.cost)\n",
    "\n",
    "        current_state = unexplored.pop(0)\n",
    "\n",
    "    dot.render('/content/drive/MyDrive/outputs/greedy_best_first_graph.gv', view=True)\n",
    "\n",
    "state_space_tree = dict()\n",
    "id_to_state = dict()\n",
    "\n",
    "if __name__ == \"__main__\":\n",
    "    # for graph\n",
    "    dot = Digraph(comment='State space graph')\n",
    "\n",
    "    opposite_movements = {\"up\": \"down\", \"down\": \"up\", \"left\": \"right\", \"right\": \"left\"}\n",
    "    goal_found = False\n",
    "    current_state = State(initial_state, 1, \"null\", 1)\n",
    "    id_to_state[1] = current_state\n",
    "    explore_queue = [current_state.self_id]\n",
    "\n",
    "    dot.node(str(current_state.self_id), current_state.__str__())\n",
    "\n",
    "    goal_lvl = 9999\n",
    "\n",
    "    while (True):\n",
    "        current_state = id_to_state[explore_queue.pop(0)]\n",
    "\n",
    "        if current_state.level  > goal_lvl + 1:\n",
    "            break\n",
    "\n",
    "        parent_move = current_state.parent_move\n",
    "        possible_movements = [\"up\", \"left\", \"down\", \"right\"]\n",
    "        if (parent_move != \"null\"):\n",
    "            possible_movements.remove(opposite_movements[parent_move])\n",
    "        childs = []\n",
    "        for move in possible_movements:\n",
    "            matrix = create_child(current_state.self_state, move)\n",
    "            if matrix != -1:\n",
    "                state_obj = State(matrix, current_state.self_id, move, current_state.level+1)\n",
    "                current_state.set_child(state_obj.self_id, move)\n",
    "                # put the child id to queue\n",
    "                explore_queue.append(state_obj.self_id)\n",
    "                # save the child object\n",
    "                id_to_state[state_obj.self_id] = state_obj\n",
    "                childs.append(state_obj.self_id)\n",
    "                # check if this child is the goal state\n",
    "                if matrix == final_state and goal_lvl == 9999:\n",
    "                    goal_lvl = state_obj.level - 1\n",
    "\n",
    "                if matrix == final_state:\n",
    "                    dot.node(str(state_obj.self_id), state_obj.__str__(), color='green')\n",
    "                else:\n",
    "                    dot.node(str(state_obj.self_id), state_obj.__str__())\n",
    "\n",
    "                dot.edge(str(state_obj.parent_id), str(state_obj.self_id), label=move)\n",
    "\n",
    "    A_star()\n",
    "    Greedy_best_first()\n",
    "    dot.render('/content/drive/MyDrive/outputs/state_space_tree_informed.gv', view=True)"
   ]
  },
  {
   "cell_type": "code",
   "execution_count": null,
   "metadata": {
    "id": "5SvV9W0LKDbL"
   },
   "outputs": [],
   "source": [
    "!rm -rf /content/drive/MyDrive/outputs\n"
   ]
  },
  {
   "cell_type": "markdown",
   "metadata": {
    "id": "mxcg8mmoKxhD"
   },
   "source": [
    "**# CẮT TỈA ALPHA - BETA**"
   ]
  },
  {
   "cell_type": "markdown",
   "metadata": {
    "id": "c5f9GGauLDsM"
   },
   "source": [
    "## **Thuật toán cắt tỉa Alpha - Beta tìm giá trị tại nút gốc (Max - Min - Max)** **văn bản in đậm**"
   ]
  },
  {
   "cell_type": "code",
   "execution_count": null,
   "metadata": {
    "id": "f-PQsHw1LGKk"
   },
   "outputs": [],
   "source": [
    "# Initial values of Alpha and Beta\n",
    "MAX, MIN = 1000, -1000\n"
   ]
  },
  {
   "cell_type": "code",
   "execution_count": null,
   "metadata": {},
   "outputs": [],
   "source": [
    "# Thêm imports cho visualization\n",
    "import networkx as nx\n",
    "import matplotlib.pyplot as plt\n",
    "\n",
    "# Biến global để theo dõi các node bị cắt tỉa\n",
    "pruned_nodes = []\n",
    "all_nodes = []\n",
    "\n",
    "# Tùy chọn màu sắc\n",
    "ROOT_NODE_COLOR = 'gold'  # Màu cho nút gốc (MAX node level 0)\n",
    "NORMAL_NODE_COLOR = 'lightblue'  # Màu cho các nút thường\n",
    "PRUNED_NODE_COLOR = 'red'  # Màu cho nút bị cắt tỉa\n",
    "\n",
    "def draw_alpha_beta_tree(values):\n",
    "    G = nx.Graph()\n",
    "    pos = {}\n",
    "    labels = {}\n",
    "    node_colors = []\n",
    "    \n",
    "    # Tạo nodes cho cây\n",
    "    depth = 3\n",
    "    node_count = 0\n",
    "    for level in range(depth + 1):\n",
    "        num_nodes = 2 ** level\n",
    "        y = (depth - level) * 2  # y coordinate\n",
    "        for i in range(num_nodes):\n",
    "            node_id = node_count\n",
    "            x = (i - num_nodes/2) * 4  # x coordinate\n",
    "            \n",
    "            G.add_node(node_id)\n",
    "            pos[node_id] = (x, y)\n",
    "            \n",
    "            if level == depth:\n",
    "                if node_id - 7 in range(len(values)) and node_id not in pruned_nodes:\n",
    "                    labels[node_id] = str(values[node_id - 7])\n",
    "                else:\n",
    "                    labels[node_id] = \"\"  # Node lá bị cắt tỉa sẽ không hiển thị giá trị\n",
    "            else:\n",
    "                labels[node_id] = 'MAX' if level % 2 == 0 else 'MIN'\n",
    "            \n",
    "            # Màu sắc cho node\n",
    "            if node_id == 0:  # Node gốc\n",
    "                node_colors.append(ROOT_NODE_COLOR)\n",
    "            elif node_id in pruned_nodes:  # Node bị cắt tỉa\n",
    "                node_colors.append(PRUNED_NODE_COLOR)\n",
    "            else:  # Node thường\n",
    "                node_colors.append(NORMAL_NODE_COLOR)\n",
    "                \n",
    "            node_count += 1\n",
    "            \n",
    "    # Thêm edges, chỉ vẽ cạnh đến các node không bị cắt tỉa\n",
    "    for level in range(depth):\n",
    "        for i in range(2 ** level):\n",
    "            parent = i\n",
    "            left_child = 2 * parent + 1\n",
    "            right_child = 2 * parent + 2\n",
    "            \n",
    "            # Chỉ vẽ cạnh nếu node con không bị cắt tỉa\n",
    "            if left_child not in pruned_nodes:\n",
    "                G.add_edge(parent, left_child)\n",
    "            if right_child not in pruned_nodes:\n",
    "                G.add_edge(parent, right_child)\n",
    "    \n",
    "    plt.figure(figsize=(15, 8))\n",
    "    nx.draw(G, pos, node_color=node_colors, with_labels=True, labels=labels, \n",
    "            node_size=2000, font_size=10, font_weight='bold')\n",
    "    plt.title('Alpha-Beta Pruning Tree')\n",
    "    plt.show()"
   ]
  },
  {
   "cell_type": "code",
   "execution_count": null,
   "metadata": {},
   "outputs": [],
   "source": [
    "def minimax(depth, nodeIndex, maximizingPlayer, values, alpha, beta):\n",
    "    global pruned_nodes\n",
    "    \n",
    "    if depth == 3:\n",
    "        all_nodes.append(nodeIndex)\n",
    "        return values[nodeIndex]\n",
    "\n",
    "    if maximizingPlayer:\n",
    "        best = MIN\n",
    "        for i in range(0, 2):\n",
    "            val = minimax(depth + 1, nodeIndex * 2 + i, False, values, alpha, beta)\n",
    "            best = max(best, val)\n",
    "            alpha = max(alpha, best)\n",
    "            \n",
    "            # Kiểm tra cắt tỉa\n",
    "            if beta <= alpha:\n",
    "                # Lưu node bị cắt tỉa\n",
    "                pruned_node = nodeIndex * 2 + i + 1\n",
    "                if pruned_node not in pruned_nodes:\n",
    "                    pruned_nodes.append(pruned_node)\n",
    "                break\n",
    "                \n",
    "        return best\n",
    "    else:\n",
    "        best = MAX\n",
    "        for i in range(0, 2):\n",
    "            val = minimax(depth + 1, nodeIndex * 2 + i, True, values, alpha, beta)\n",
    "            best = min(best, val)\n",
    "            beta = min(beta, best)\n",
    "            \n",
    "            # Kiểm tra cắt tỉa\n",
    "            if beta <= alpha:\n",
    "                # Lưu node bị cắt tỉa\n",
    "                pruned_node = nodeIndex * 2 + i + 1\n",
    "                if pruned_node not in pruned_nodes:\n",
    "                    pruned_nodes.append(pruned_node)\n",
    "                break\n",
    "                \n",
    "        return best"
   ]
  },
  {
   "cell_type": "code",
   "execution_count": null,
   "metadata": {},
   "outputs": [],
   "source": [
    "# Test visualization\n",
    "values = [3, 5, 6, 9, 1, 2, 0, -1]\n",
    "pruned_nodes = []\n",
    "all_nodes = []\n",
    "\n",
    "result = minimax(0, 0, True, values, MIN, MAX)\n",
    "print(\"The optimal value is:\", result)\n",
    "print(\"Pruned nodes:\", pruned_nodes)\n",
    "draw_alpha_beta_tree(values)"
   ]
  }
 ],
 "metadata": {
  "colab": {
   "collapsed_sections": [
    "n7g1FB5vBAGo"
   ],
   "provenance": []
  },
  "kernelspec": {
   "display_name": ".venv",
   "language": "python",
   "name": "python3"
  },
  "language_info": {
   "codemirror_mode": {
    "name": "ipython",
    "version": 3
   },
   "file_extension": ".py",
   "mimetype": "text/x-python",
   "name": "python",
   "nbconvert_exporter": "python",
   "pygments_lexer": "ipython3",
   "version": "3.12.3"
  }
 },
 "nbformat": 4,
 "nbformat_minor": 0
}
