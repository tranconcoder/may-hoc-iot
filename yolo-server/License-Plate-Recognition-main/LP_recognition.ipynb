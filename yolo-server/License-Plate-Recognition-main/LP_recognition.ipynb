{
 "cells": [
  {
   "cell_type": "code",
   "execution_count": null,
   "metadata": {},
   "outputs": [
    {
     "ename": "",
     "evalue": "",
     "output_type": "error",
     "traceback": [
      "\u001b[1;31mRunning cells with 'Python 3.12.3' requires the ipykernel package.\n",
      "\u001b[1;31mInstall 'ipykernel' into the Python environment. \n",
      "\u001b[1;31mCommand: '/bin/python3 -m pip install ipykernel -U --user --force-reinstall'"
     ]
    }
   ],
   "source": [
    "from PIL import Image\n",
    "import cv2\n",
    "import torch\n",
    "import math \n",
    "import function.utils_rotate as utils_rotate\n",
    "from IPython.display import display\n",
    "import os\n",
    "import function.helper as helper"
   ]
  },
  {
   "cell_type": "code",
   "execution_count": null,
   "metadata": {},
   "outputs": [],
   "source": [
    "# load yolo model for detect and character detection stage\n",
    "# please download yolov5 from our link on github\n",
    "yolo_LP_detect = torch.hub.load('yolov5', 'custom', path='model/LP_detector.pt', force_reload=True, source='local')\n",
    "yolo_license_plate = torch.hub.load('yolov5', 'custom', path='model/LP_ocr.pt', force_reload=True, source='local')\n",
    "\n",
    "# set model confidence threshold \n",
    "# yolo_LP_detect.conf = 0.6\n",
    "yolo_license_plate.conf = 0.60"
   ]
  },
  {
   "cell_type": "code",
   "execution_count": null,
   "metadata": {},
   "outputs": [],
   "source": [
    "#enter image path here\n",
    "img_file = \"test_image/119.jpg\"\n",
    "img = cv2.imread(img_file)\n",
    "plates = yolo_LP_detect(img, size=640)"
   ]
  },
  {
   "cell_type": "code",
   "execution_count": null,
   "metadata": {},
   "outputs": [],
   "source": [
    "list_plates = plates.pandas().xyxy[0].values.tolist()\n",
    "list_read_plates = set()\n",
    "count = 0\n",
    "if len(list_plates) == 0:\n",
    "    lp = helper.read_plate(yolo_license_plate,img)\n",
    "    if lp != \"unknown\":\n",
    "        list_read_plates.add(lp)\n",
    "else:\n",
    "    for plate in list_plates:\n",
    "        flag = 0\n",
    "        x = int(plate[0]) # xmin\n",
    "        y = int(plate[1]) # ymin\n",
    "        w = int(plate[2] - plate[0]) # xmax - xmin\n",
    "        h = int(plate[3] - plate[1]) # ymax - ymin  \n",
    "        crop_img = img[y:y+h, x:x+w]\n",
    "        cv2.rectangle(img, (int(plate[0]),int(plate[1])), (int(plate[2]),int(plate[3])), color = (0,0,225), thickness = 2)\n",
    "        cv2.imwrite(\"crop.jpg\", crop_img)\n",
    "        rc_image = cv2.imread(\"crop.jpg\")\n",
    "        lp = \"\"\n",
    "        count+=1\n",
    "        for cc in range(0,2):\n",
    "            for ct in range(0,2):\n",
    "                lp = helper.read_plate(yolo_license_plate, utils_rotate.deskew(crop_img, cc, ct))\n",
    "                if lp != \"unknown\":\n",
    "                    list_read_plates.add(lp)\n",
    "                    flag = 1\n",
    "                    break\n",
    "            if flag == 1:\n",
    "                break"
   ]
  },
  {
   "cell_type": "code",
   "execution_count": null,
   "metadata": {},
   "outputs": [],
   "source": [
    "print(list_read_plates)\n",
    "img = Image.open(img_file)\n",
    "basewidth = 500\n",
    "wpercent = (basewidth/float(img.size[0]))\n",
    "hsize = int((float(img.size[1])*float(wpercent)))\n",
    "img = img.resize((basewidth,hsize), Image.ANTIALIAS)\n",
    "display(img)"
   ]
  },
  {
   "cell_type": "code",
   "execution_count": null,
   "metadata": {},
   "outputs": [],
   "source": []
  },
  {
   "cell_type": "code",
   "execution_count": null,
   "metadata": {},
   "outputs": [],
   "source": []
  }
 ],
 "metadata": {
  "kernelspec": {
   "display_name": "Python 3",
   "language": "python",
   "name": "python3"
  },
  "language_info": {
   "codemirror_mode": {
    "name": "ipython",
    "version": 3
   },
   "file_extension": ".py",
   "mimetype": "text/x-python",
   "name": "python",
   "nbconvert_exporter": "python",
   "pygments_lexer": "ipython3",
   "version": "3.12.3"
  },
  "orig_nbformat": 4
 },
 "nbformat": 4,
 "nbformat_minor": 2
}
